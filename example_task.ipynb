{
  "nbformat": 4,
  "nbformat_minor": 0,
  "metadata": {
    "colab": {
      "provenance": [],
      "authorship_tag": "ABX9TyOdMB6X+QoH6/5pHly6dkt5",
      "include_colab_link": true
    },
    "kernelspec": {
      "name": "python3",
      "display_name": "Python 3"
    },
    "language_info": {
      "name": "python"
    }
  },
  "cells": [
    {
      "cell_type": "markdown",
      "metadata": {
        "id": "view-in-github",
        "colab_type": "text"
      },
      "source": [
        "<a href=\"https://colab.research.google.com/github/harichandan-6/example_1/blob/main/example_task.ipynb\" target=\"_parent\"><img src=\"https://colab.research.google.com/assets/colab-badge.svg\" alt=\"Open In Colab\"/></a>"
      ]
    },
    {
      "cell_type": "code",
      "execution_count": 11,
      "metadata": {
        "colab": {
          "base_uri": "https://localhost:8080/"
        },
        "id": "w4HH6ozvJ4Ls",
        "outputId": "e25f2221-4c38-4c91-cb0a-a5cb9d3e618a"
      },
      "outputs": [
        {
          "output_type": "stream",
          "name": "stdout",
          "text": [
            "+----------------------------------+---------------------------------------+---------------------+\n",
            "| A (rm:resource)                  | B (dcterms:identifier)                | C (dcterms:title)   |\n",
            "+==================================+=======================================+=====================+\n",
            "| http://purl.org/dc/terms/creator | _a55a4943-c8da-4cee-89b0-1a214c62f58b | Creator             |\n",
            "+----------------------------------+---------------------------------------+---------------------+\n"
          ]
        }
      ],
      "source": [
        "\n",
        "import xml.etree.ElementTree as ET\n",
        "from tabulate import tabulate\n",
        "mappings_xml = \"\"\"<root xmlns:rm=\"http://example.com/rm\" xmlns:dcterms=\"http://purl.org/dc/terms\" xmlns:rdf=\"http://www.w3.org/1999/02/22-rdf-syntax-ns#\">\n",
        "    <rm:mapping rdf:parseType=\"Resource\">\n",
        "      <rm:preferredInstance rdf:datatype=\"http://www.w3.org/2001/XMLSchema#string\">PREFERRED</rm:preferredInstance>\n",
        "      <dcterms:identifier>_a55a4943-c8da-4cee-89b0-1a214c62f58b</dcterms:identifier>\n",
        "      <rm:resource rdf:resource=\"http://purl.org/dc/terms/creator\"/>\n",
        "      <rm:associatedType rdf:resource=\"https://elmfvttrs1.fyre.ibm.com/rm/types/OT_2VssgOqhEe-xTs4CVFTVFg/\"/>\n",
        "    </rm:mapping>\n",
        "</root>\"\"\"\n",
        "types_xml = \"\"\"<root xmlns:rm=\"http://example.com/rm\" xmlns:dcterms=\"http://purl.org/dc/terms\" xmlns:rdf=\"http://www.w3.org/1999/02/22-rdf-syntax-ns#\">\n",
        "    <rm:AttributeDefinition rdf:about=\"http://purl.org/dc/terms/creator\">\n",
        "        <dcterms:title>Creator</dcterms:title>\n",
        "    </rm:AttributeDefinition>\n",
        "</root>\"\"\"\n",
        "mappings_tree = ET.ElementTree(ET.fromstring(mappings_xml))\n",
        "types_tree = ET.ElementTree(ET.fromstring(types_xml))\n",
        "ns = {\n",
        "    'rm': 'http://example.com/rm',\n",
        "    'dcterms': 'http://purl.org/dc/terms',\n",
        "    'rdf': 'http://www.w3.org/1999/02/22-rdf-syntax-ns#'\n",
        "}\n",
        "mappings = []\n",
        "root_mappings = mappings_tree.getroot()\n",
        "for mapping in root_mappings.findall('.//rm:mapping', ns):\n",
        "    resource = mapping.find('rm:resource', ns)\n",
        "    identifier = mapping.find('dcterms:identifier', ns)\n",
        "\n",
        "    if resource is not None and identifier is not None:\n",
        "        a_value = resource.get('{http://www.w3.org/1999/02/22-rdf-syntax-ns#}resource')\n",
        "        b_value = identifier.text\n",
        "        if a_value and b_value:\n",
        "            mappings.append((a_value, b_value))\n",
        "types_dict = {}\n",
        "root_types = types_tree.getroot()\n",
        "for attr in root_types.findall('.//rm:AttributeDefinition', ns):\n",
        "    url = attr.get('{http://www.w3.org/1999/02/22-rdf-syntax-ns#}about')\n",
        "    title = attr.find('dcterms:title', ns)\n",
        "    if url and title is not None:\n",
        "        types_dict[url] = title.text\n",
        "output_data = [(a, b, types_dict.get(a.strip('/'), 'Not Found')) for a, b in mappings]\n",
        "print(tabulate(output_data, headers=['A (rm:resource)', 'B (dcterms:identifier)', 'C (dcterms:title)'], tablefmt='grid'))\n",
        "\n",
        "with open('output.txt', 'w') as f:\n",
        "    f.write(tabulate(output_data, headers=['A (rm:resource)', 'B (dcterms:identifier)', 'C (dcterms:title)'], tablefmt='grid'))\n",
        "\n",
        "# Optionally, print a confirmation message\n",
        "#print(\"Tabulated data saved to output.txt\")\n",
        "#from google.colab import files\n",
        "#files.download('output.txt')\n"
      ]
    },
    {
      "cell_type": "code",
      "source": [],
      "metadata": {
        "id": "5O6Q3Iz9J5Rw",
        "colab": {
          "base_uri": "https://localhost:8080/",
          "height": 17
        },
        "outputId": "2cd057df-cc8b-4a1b-aec4-a445065528e1"
      },
      "execution_count": 5,
      "outputs": [
        {
          "output_type": "display_data",
          "data": {
            "text/plain": [
              "<IPython.core.display.Javascript object>"
            ],
            "application/javascript": [
              "\n",
              "    async function download(id, filename, size) {\n",
              "      if (!google.colab.kernel.accessAllowed) {\n",
              "        return;\n",
              "      }\n",
              "      const div = document.createElement('div');\n",
              "      const label = document.createElement('label');\n",
              "      label.textContent = `Downloading \"${filename}\": `;\n",
              "      div.appendChild(label);\n",
              "      const progress = document.createElement('progress');\n",
              "      progress.max = size;\n",
              "      div.appendChild(progress);\n",
              "      document.body.appendChild(div);\n",
              "\n",
              "      const buffers = [];\n",
              "      let downloaded = 0;\n",
              "\n",
              "      const channel = await google.colab.kernel.comms.open(id);\n",
              "      // Send a message to notify the kernel that we're ready.\n",
              "      channel.send({})\n",
              "\n",
              "      for await (const message of channel.messages) {\n",
              "        // Send a message to notify the kernel that we're ready.\n",
              "        channel.send({})\n",
              "        if (message.buffers) {\n",
              "          for (const buffer of message.buffers) {\n",
              "            buffers.push(buffer);\n",
              "            downloaded += buffer.byteLength;\n",
              "            progress.value = downloaded;\n",
              "          }\n",
              "        }\n",
              "      }\n",
              "      const blob = new Blob(buffers, {type: 'application/binary'});\n",
              "      const a = document.createElement('a');\n",
              "      a.href = window.URL.createObjectURL(blob);\n",
              "      a.download = filename;\n",
              "      div.appendChild(a);\n",
              "      a.click();\n",
              "      div.remove();\n",
              "    }\n",
              "  "
            ]
          },
          "metadata": {}
        },
        {
          "output_type": "display_data",
          "data": {
            "text/plain": [
              "<IPython.core.display.Javascript object>"
            ],
            "application/javascript": [
              "download(\"download_c0e1edbb-8921-4533-a640-a15effe703d2\", \"example_task.txt\", 29)"
            ]
          },
          "metadata": {}
        }
      ]
    },
    {
      "cell_type": "code",
      "source": [],
      "metadata": {
        "id": "NnkPCUTfxsZk"
      },
      "execution_count": null,
      "outputs": []
    }
  ]
}